{
  "nbformat": 4,
  "nbformat_minor": 0,
  "metadata": {
    "colab": {
      "provenance": [],
      "collapsed_sections": []
    },
    "kernelspec": {
      "name": "python3",
      "display_name": "Python 3"
    },
    "language_info": {
      "name": "python"
    }
  },
  "cells": [
    {
      "cell_type": "code",
      "execution_count": 1,
      "metadata": {
        "id": "b2Mkwgd8CA1f"
      },
      "outputs": [],
      "source": [
        "from keras.preprocessing.image import ImageDataGenerator"
      ]
    },
    {
      "cell_type": "code",
      "source": [
        "train_datagen=ImageDataGenerator(rescale=1./255,shear_range=0.2,zoom_range=0.2,horizontal_flip=True)"
      ],
      "metadata": {
        "id": "Lwd7sgTZCYr5"
      },
      "execution_count": 7,
      "outputs": []
    },
    {
      "cell_type": "code",
      "source": [
        "test_datagen=ImageDataGenerator(rescale=1)"
      ],
      "metadata": {
        "id": "TprOfyGcDKEC"
      },
      "execution_count": 4,
      "outputs": []
    },
    {
      "cell_type": "code",
      "source": [
        "x_train=train_datagen.flow_from_directory('/content/drive/MyDrive/Classroom/Dataset Plant Disease/Veg-dataset')\n",
        "x_test=test_datagen.flow_from_directory('/content/drive/MyDrive/Classroom/Dataset Plant Disease/Veg-dataset')"
      ],
      "metadata": {
        "id": "7QSi-Yo7DJ3e",
        "colab": {
          "base_uri": "https://localhost:8080/"
        },
        "outputId": "5923ee91-2385-4d86-ba02-2620bfd4fc16"
      },
      "execution_count": 8,
      "outputs": [
        {
          "output_type": "stream",
          "name": "stdout",
          "text": [
            "Found 10410 images belonging to 1 classes.\n",
            "Found 10410 images belonging to 1 classes.\n"
          ]
        }
      ]
    },
    {
      "cell_type": "code",
      "source": [
        "x_train=train_datagen.flow_from_directory('/content/drive/MyDrive/Classroom/Dataset Plant Disease/fruit-dataset')\n",
        "x_test=test_datagen.flow_from_directory('/content/drive/MyDrive/Classroom/Dataset Plant Disease/fruit-dataset')"
      ],
      "metadata": {
        "id": "abNngCSMEf1W",
        "colab": {
          "base_uri": "https://localhost:8080/"
        },
        "outputId": "e0d776ad-2077-48c5-8a04-7a3658634238"
      },
      "execution_count": 9,
      "outputs": [
        {
          "output_type": "stream",
          "name": "stdout",
          "text": [
            "Found 210 images belonging to 1 classes.\n",
            "Found 210 images belonging to 1 classes.\n"
          ]
        }
      ]
    }
  ]
}